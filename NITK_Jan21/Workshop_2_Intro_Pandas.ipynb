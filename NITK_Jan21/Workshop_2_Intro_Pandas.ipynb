{
 "cells": [
  {
   "cell_type": "markdown",
   "metadata": {
    "collapsed": true
   },
   "source": [
    "## Introduction to Pandas ##\n",
    "We will learn:\n",
    "\n",
    "a) What is Pandas?\n",
    "\n",
    "b) How to install Pandas?\n",
    "\n",
    "c) What is a Series ?\n",
    "\n",
    "d) Viewing data in a series\n",
    "\n",
    "e) Series to Dictionary and vice-versa."
   ]
  },
  {
   "cell_type": "code",
   "execution_count": 3,
   "metadata": {
    "collapsed": false
   },
   "outputs": [],
   "source": [
    "#Remember these will become the standard imports from now on!\n",
    "import numpy as np\n",
    "\n",
    "from pandas import Series,DataFrame\n",
    "import pandas as pd\n",
    "\n",
    "#series is a 1d array #column and and data\n",
    "#data frame is a 2d array basically\n"
   ]
  },
  {
   "cell_type": "code",
   "execution_count": 4,
   "metadata": {
    "collapsed": false
   },
   "outputs": [
    {
     "data": {
      "text/plain": [
       "0     3\n",
       "1     6\n",
       "2     9\n",
       "3    12\n",
       "dtype: int64"
      ]
     },
     "execution_count": 4,
     "metadata": {},
     "output_type": "execute_result"
    }
   ],
   "source": [
    "#Lets create a Series (array of data and data labels, its index)\n",
    "\n",
    "obj = Series([3,6,9,12])\n",
    "\n",
    "#Show\n",
    "obj\n",
    "\n",
    "#picks up the most specified data type\n",
    "#gives index(slno) for all\n"
   ]
  },
  {
   "cell_type": "code",
   "execution_count": 11,
   "metadata": {
    "collapsed": false
   },
   "outputs": [
    {
     "name": "stdout",
     "output_type": "stream",
     "text": [
      "[ 3  6  9 12]\n",
      "RangeIndex(start=0, stop=4, step=1)\n"
     ]
    }
   ],
   "source": [
    "#Lets show the values\n",
    "print obj.values\n",
    "#lets show the slno\n",
    "print obj.index"
   ]
  },
  {
   "cell_type": "code",
   "execution_count": 15,
   "metadata": {
    "collapsed": false
   },
   "outputs": [
    {
     "name": "stdout",
     "output_type": "stream",
     "text": [
      "USSR       8700000\n",
      "Germany    4300000\n",
      "China      3000000\n",
      "Japan      2100000\n",
      "USA         400000\n",
      "dtype: int64\n"
     ]
    }
   ],
   "source": [
    "#Now lets create a Series with an index\n",
    "\n",
    "#WW2 casualties \n",
    "ww2_cas = Series([8700000,4300000,3000000,2100000,400000] , index=['USSR','Germany','China','Japan','USA'])\n",
    "\n",
    "#Show\n",
    "ww2_cas"
   ]
  },
  {
   "cell_type": "code",
   "execution_count": 16,
   "metadata": {
    "collapsed": false,
    "scrolled": true
   },
   "outputs": [
    {
     "name": "stdout",
     "output_type": "stream",
     "text": [
      "ww2_cas['USA']: 400000\n",
      "\n",
      "ww2_cas[ww2_cas>4000000]:  USSR       8700000\n",
      "Germany    4300000\n",
      "dtype: int64\n",
      "\n",
      "'USSR' in ww2_cas:  True\n"
     ]
    }
   ],
   "source": [
    "#Now we can use index values to select Series values\n",
    "print \"ww2_cas['USA']:\", ww2_cas['USA']\n",
    "\n",
    "#Check who had casualties greater than 4 million\n",
    "print \"\\nww2_cas[ww2_cas>4000000]: \" , ww2_cas[ww2_cas>4000000]\n",
    "\n",
    "#Check if USSR is in Series\n",
    "\n",
    "print \"\\n'USSR' in ww2_cas: \" , 'USSR' in ww2_cas"
   ]
  },
  {
   "cell_type": "markdown",
   "metadata": {},
   "source": [
    "A dictionary is a key-value pair. We can use dictionary to create a series."
   ]
  },
  {
   "cell_type": "code",
   "execution_count": 17,
   "metadata": {
    "collapsed": false
   },
   "outputs": [
    {
     "name": "stdout",
     "output_type": "stream",
     "text": [
      "Dictionary: {'China': 3000000, 'USSR': 8700000, 'Germany': 4300000, 'USA': 400000, 'Japan': 2100000}\n",
      "\n",
      "Series: China      3000000\n",
      "Germany    4300000\n",
      "Japan      2100000\n",
      "USA         400000\n",
      "USSR       8700000\n",
      "dtype: int64\n",
      "\n",
      "SWW2_Series['China']:  3000000\n"
     ]
    }
   ],
   "source": [
    "#Can convert Series into Python dictionary\n",
    "ww2_dict = ww2_cas.to_dict()\n",
    "\n",
    "#Show\n",
    "print \"Dictionary:\" , ww2_dict\n",
    "\n",
    "#Can convert back into a Series\n",
    "WW2_Series = Series(ww2_dict)\n",
    "\n",
    "print \"\\nSeries:\",  WW2_Series\n",
    "\n",
    "print \"\\nSWW2_Series['China']: \", WW2_Series['China']"
   ]
  },
  {
   "cell_type": "code",
   "execution_count": 18,
   "metadata": {
    "collapsed": false
   },
   "outputs": [
    {
     "data": {
      "text/plain": [
       "Currency\n",
       "100       10000\n",
       "500      200000\n",
       "1000     800000\n",
       "2000    2000000\n",
       "Name: Currency Notes Availability, dtype: int64"
      ]
     },
     "execution_count": 18,
     "metadata": {},
     "output_type": "execute_result"
    }
   ],
   "source": [
    "# LET'S DO IT TOGETHER:  \n",
    "# a) Create a new Series with index 100,500,1000,2000 and values 10000, 200000, 800000, 2000000\n",
    "# b) Convert the above Series to a dictionary\n",
    "# c) Add a header to the Series using: \n",
    "#           We can give Series names\n",
    "# d) Add a header to the Series using: \n",
    "#            We can also name index\n",
    "#            <series_object>.index.name = 'Countries'\n",
    "\n",
    "newS = Series([10000, 200000, 800000, 2000000],index=[100,500,1000,2000])\n",
    "newS.to_dict()\n",
    "\n",
    "newS.name = \"Currency Notes Availability\"\n",
    "newS.index.name = \"Currency\"\n",
    "newS\n",
    "\n"
   ]
  },
  {
   "cell_type": "markdown",
   "metadata": {},
   "source": [
    "## Check point ##\n",
    "Series can be thought of a column in a table where each entry in the column contains an index. Pandas can help us navigate through the column values using the index."
   ]
  },
  {
   "cell_type": "code",
   "execution_count": null,
   "metadata": {
    "collapsed": true
   },
   "outputs": [],
   "source": []
  }
 ],
 "metadata": {
  "anaconda-cloud": {},
  "kernelspec": {
   "display_name": "Python [conda root]",
   "language": "python",
   "name": "conda-root-py"
  },
  "language_info": {
   "codemirror_mode": {
    "name": "ipython",
    "version": 2
   },
   "file_extension": ".py",
   "mimetype": "text/x-python",
   "name": "python",
   "nbconvert_exporter": "python",
   "pygments_lexer": "ipython2",
   "version": "2.7.12"
  }
 },
 "nbformat": 4,
 "nbformat_minor": 1
}
