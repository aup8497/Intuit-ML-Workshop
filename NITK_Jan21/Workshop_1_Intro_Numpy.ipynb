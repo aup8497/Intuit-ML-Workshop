{
 "cells": [
  {
   "cell_type": "raw",
   "metadata": {
    "collapsed": true
   },
   "source": [
    "## Getting Started & Introduction to Numpy ##\n",
    "This introduction will teach you to do:\n",
    "\n",
    "a) Learn to use the Jupyter Notebook and execute commands.\n",
    "\n",
    "b) Create a list in Python.\n",
    "\n",
    "c) Create an array using Numpy.\n",
    "\n",
    "d) Understand the difference between the PYTHON list and NUMPY array."
   ]
  },
  {
   "cell_type": "code",
   "execution_count": 1,
   "metadata": {
    "collapsed": false
   },
   "outputs": [
    {
     "name": "stdout",
     "output_type": "stream",
     "text": [
      "Hi there! Machine Learning is very easy!! This workshop will teach you that!\n"
     ]
    }
   ],
   "source": [
    "# Test whether you are able to print something\n",
    "print 'Hi there! Machine Learning is very easy!! This workshop will teach you that!'"
   ]
  },
  {
   "cell_type": "code",
   "execution_count": 2,
   "metadata": {
    "collapsed": true
   },
   "outputs": [],
   "source": [
    "# This is a list in PYTHON. List is similar to an array!\n",
    "List1 = [1,2,3]"
   ]
  },
  {
   "cell_type": "code",
   "execution_count": 8,
   "metadata": {
    "collapsed": false
   },
   "outputs": [
    {
     "name": "stdout",
     "output_type": "stream",
     "text": [
      "Elements in the list are:\n",
      "1 2 3\n"
     ]
    }
   ],
   "source": [
    "# A for loop to print the elements in a list.\n",
    "#\n",
    "# NOTE: For first time users, there should be an indent in the second line!\n",
    "# \n",
    "# TRY IT: Try removing the indent!\n",
    "#\n",
    "print 'Elements in the list are:';\n",
    "for element in List1:\n",
    "    print element,"
   ]
  },
  {
   "cell_type": "code",
   "execution_count": 3,
   "metadata": {
    "collapsed": false
   },
   "outputs": [
    {
     "name": "stdout",
     "output_type": "stream",
     "text": [
      "\n",
      "Numpy array:\n",
      "1\n",
      "2\n",
      "3\n",
      "4\n",
      "[1 2 3 4]\n"
     ]
    }
   ],
   "source": [
    "#Print another line - what is the change here ?\n",
    "#NOTICE that you can use \\n!\n",
    "print '\\nNumpy array:';\n",
    "\n",
    "#IMPORT statement for getting NUMPY in.\n",
    "import numpy as np;\n",
    "\n",
    "#This is how we can create a NUMPY ARRAY\n",
    "numpyArray = np.array([1,2,3,4]);\n",
    "\n",
    "#Print the elements of the array\n",
    "for element in numpyArray:\n",
    "    print element;\n",
    "    \n",
    "#Directly print the array\n",
    "print numpyArray;"
   ]
  },
  {
   "cell_type": "code",
   "execution_count": 4,
   "metadata": {
    "collapsed": false
   },
   "outputs": [
    {
     "name": "stdout",
     "output_type": "stream",
     "text": [
      "Numpy array:\n",
      "2\n",
      "4\n",
      "6\n",
      "8\n",
      "[102 104 106 108]\n",
      "\n",
      " Output of List: \n",
      "1\n",
      "2\n",
      "3\n",
      "4\n",
      "1\n",
      "2\n",
      "3\n",
      "4\n",
      "[[ 2  4  6]\n",
      " [ 8 10 12]\n",
      " [14 16 18]]\n",
      "[[ 30  36  42]\n",
      " [ 66  81  96]\n",
      " [102 126 150]]\n",
      "[[ 1  4  9]\n",
      " [16 25 36]\n",
      " [49 64 81]]\n"
     ]
    }
   ],
   "source": [
    "# LET'S DO IT TOGETHER:  \n",
    "# a) Create 2 new numpy arrays and add them together. Print the result.\n",
    "# b) Create 2 python lists and add them together. Print the result.\n",
    "\n",
    "\n",
    "numpyArray2 = np.array([1,2,3,4]);\n",
    "numpyArray3 = np.array([1,2,3,4]);\n",
    "\n",
    "\n",
    "\n",
    "# This is how we can add the array\n",
    "numpyArray4 = numpyArray2 + numpyArray3;\n",
    "\n",
    "print \"Numpy array:\"\n",
    "#print the array\n",
    "for element in numpyArray4:\n",
    "    print element;\n",
    "    \n",
    "\n",
    "# numpy array + 100 will add 100 to all the elements of the array\n",
    "numpyArray6 = numpyArray4+100;\n",
    "print numpyArray6\n",
    "    \n",
    "print '\\n Output of List: '\n",
    "List2 = [1,2,3,4]\n",
    "List3 = [1,2,3,4]\n",
    "\n",
    "#Add the lists together\n",
    "List4 = List2 + List3\n",
    "\n",
    "#print the list\n",
    "for element in List4:\n",
    "    print element;\n",
    "\n",
    "numpyArray5 = [[1,2,3],[4,5,6],[7,8,9]]\n",
    "numpyArray5[0][0]\n",
    "\n",
    "numpyArray7 = np.array([[1,2,3],[4,5,6],[7,8,9]])\n",
    "numpyArray8 = np.array([[1,2,3],[4,5,6],[7,8,9]])\n",
    "\n",
    "print  numpyArray7 + numpyArray8 \n",
    "\n",
    "# see the difference between the below two lines\n",
    "print np.dot(numpyArray7,numpyArray8)\n",
    "print numpyArray7*numpyArray8\n",
    "\n",
    "\n",
    "#notes:\n",
    "# numpy array adds elements whereas list appends elements  \n",
    "\n"
   ]
  },
  {
   "cell_type": "markdown",
   "metadata": {},
   "source": []
  },
  {
   "cell_type": "markdown",
   "metadata": {},
   "source": [
    "## Check point ##\n",
    "\n",
    "Numpy Array can be thought of as a MATRIX. The array which we created just now is a row matrix. Numpy helps in doing all matrix operations. \n",
    "\n",
    "Sample of MATRIX ADDITION is what we saw just now!\n",
    "\n",
    "Try out creating an array like this: \n",
    "\n",
    "A = np.array([[1,2,3],[4,5,6],[7,8,9]]); \n",
    "\n",
    "This is printing a matrix of size 3 X 3.\n",
    "\n",
    "##Exercises for later ##\n",
    "\n",
    "Try out other MATRIX Operations - Subtraction, Dot Product, Multiplication! "
   ]
  },
  {
   "cell_type": "code",
   "execution_count": 1,
   "metadata": {
    "collapsed": false
   },
   "outputs": [
    {
     "name": "stdout",
     "output_type": "stream",
     "text": [
      "abc\n"
     ]
    }
   ],
   "source": [
    "print(\"abc\")"
   ]
  },
  {
   "cell_type": "code",
   "execution_count": 5,
   "metadata": {
    "collapsed": true
   },
   "outputs": [],
   "source": []
  }
 ],
 "metadata": {
  "anaconda-cloud": {},
  "kernelspec": {
   "display_name": "Python [conda root]",
   "language": "python",
   "name": "conda-root-py"
  },
  "language_info": {
   "codemirror_mode": {
    "name": "ipython",
    "version": 2
   },
   "file_extension": ".py",
   "mimetype": "text/x-python",
   "name": "python",
   "nbconvert_exporter": "python",
   "pygments_lexer": "ipython2",
   "version": "2.7.12"
  }
 },
 "nbformat": 4,
 "nbformat_minor": 1
}
