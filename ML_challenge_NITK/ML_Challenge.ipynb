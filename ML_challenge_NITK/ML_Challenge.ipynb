{
 "cells": [
  {
   "cell_type": "markdown",
   "metadata": {},
   "source": [
    "# ML Challenge"
   ]
  },
  {
   "cell_type": "markdown",
   "metadata": {},
   "source": [
    "This is a challenge to test your understanding of how you will approach a  Machine Learning problem, come up with a Model and answer the questions. \n",
    "\n",
    "The data set provided to you is a data set of passengers who travelled in an aircraft. The aircraft met with an accident and few of the passengers survived the crash.\n",
    "Data set is present in: aircrash.csv\n",
    "\n",
    "Now, here is what you need to do:\n",
    "1.) Count the number of passengers in the Aircraft based on Age, Gender, Class. \n",
    "2.) Find the number of children in the Aircraft.\n",
    "Note: Children are aged less than 16 years.\n",
    "3.) Find the number of children in the various classes.\n",
    "Bonus: Can you plot the above results ?\n",
    "4.) Replace all NULL and NAN values in the dataset programatically.\n",
    "5.) Find the number of passengers who were alone and who were with family.\n",
    "6.) What was the effect of Age and Class on survival rate?\n",
    "Bonus: Can you plot the above results ?\n",
    "7.) What was the effect of Gender and Age on survival rate? \n",
    "8.) Did having a family member increase the odds of surviving the crash?\n",
    "\n",
    "Optional Challenge - You are an expert! \n",
    "9.) Fit a classification model which can predict whether a person survived or not. Try to maximize the accuracy.\n",
    "Hint: Possible features can be:  Age, Gender, Class, Fare, Sibling count and Parent count.\n",
    "\n",
    "Rules:\n",
    "1. The first 8 questions are considered for the challenge. The last one is optional.\n",
    "2. The team which comes with correct answers for all(or most) of the questions will be the winner.\n",
    "3. In case, multiple teams are able to complete the questions, the team which showed the results earliest will be the winner.\n"
   ]
  },
  {
   "cell_type": "code",
   "execution_count": 2,
   "metadata": {
    "collapsed": true
   },
   "outputs": [],
   "source": [
    "import numpy as np\n",
    "import pandas as pd\n",
    "from pandas import Series,DataFrame"
   ]
  },
  {
   "cell_type": "code",
   "execution_count": 3,
   "metadata": {
    "collapsed": true
   },
   "outputs": [],
   "source": [
    "import matplotlib.pyplot as plt\n",
    "import seaborn as sns\n",
    "sns.set_style('whitegrid')\n",
    "%matplotlib inline\n"
   ]
  },
  {
   "cell_type": "code",
   "execution_count": 4,
   "metadata": {
    "collapsed": true
   },
   "outputs": [],
   "source": [
    "Array = pd.read_csv(\"aircrash.csv\").as_matrix()"
   ]
  },
  {
   "cell_type": "code",
   "execution_count": 5,
   "metadata": {
    "collapsed": false
   },
   "outputs": [
    {
     "name": "stdout",
     "output_type": "stream",
     "text": [
      "[[1 0 3 ..., 0 7250.0 'New York']\n",
      " [2 1 1 ..., 0 71283.3 'Los Angeles']\n",
      " [3 1 3 ..., 0 7925.0 'New York']\n",
      " ..., \n",
      " [889 0 3 ..., 2 23450.0 'New York']\n",
      " [890 1 1 ..., 0 30000.0 'Los Angeles']\n",
      " [891 0 3 ..., 0 7750.0 'Chicago']]\n"
     ]
    }
   ],
   "source": [
    "print Array"
   ]
  },
  {
   "cell_type": "code",
   "execution_count": 22,
   "metadata": {
    "collapsed": false
   },
   "outputs": [],
   "source": [
    "numberOfChildren=0\n",
    "for i in range(0,891):\n",
    "    if Array[i][5] < 16 and i!='':\n",
    "        numberOfChildren+=1\n"
   ]
  },
  {
   "cell_type": "code",
   "execution_count": 18,
   "metadata": {
    "collapsed": false
   },
   "outputs": [
    {
     "name": "stdout",
     "output_type": "stream",
     "text": [
      "83\n"
     ]
    }
   ],
   "source": [
    "print numberOfChildren"
   ]
  },
  {
   "cell_type": "code",
   "execution_count": 23,
   "metadata": {
    "collapsed": false
   },
   "outputs": [
    {
     "name": "stdout",
     "output_type": "stream",
     "text": [
      "[0, 6, 77]\n"
     ]
    }
   ],
   "source": [
    "#3rd question\n",
    "classcount=[0,0,0]\n",
    "\n",
    "for i in range(0,891):\n",
    "    if Array[i][5] < 16 and i!='' and Array[i][2]==1:\n",
    "        classcount[1]+=1\n",
    "    if Array[i][5] < 16 and i!='' and Array[i][2]==2:\n",
    "        classcount[2]+=1\n",
    "    if Array[i][5] < 16 and i!='' and Array[i][2]==3:\n",
    "        classcount[2]+=1\n",
    "\n",
    "print classcount"
   ]
  },
  {
   "cell_type": "code",
   "execution_count": 24,
   "metadata": {
    "collapsed": false,
    "scrolled": true
   },
   "outputs": [
    {
     "name": "stdout",
     "output_type": "stream",
     "text": [
      "number of passengers alone =  537\n",
      "number of passengers not alone =  354\n"
     ]
    }
   ],
   "source": [
    "#question 5\n",
    "\n",
    "passengers=[0,0]\n",
    "\n",
    "for i in range(0,891):\n",
    "    if Array[i][6] + Array[i][7] == 0:\n",
    "        passengers[0]+=1\n",
    "    else:\n",
    "        passengers[1]+=1\n",
    "\n",
    "        \n",
    "print \"number of passengers alone = \" , passengers[0]\n",
    "print \"number of passengers not alone = \" , passengers[1]\n"
   ]
  },
  {
   "cell_type": "code",
   "execution_count": 27,
   "metadata": {
    "collapsed": false
   },
   "outputs": [
    {
     "name": "stdout",
     "output_type": "stream",
     "text": [
      "163 374 175 179\n",
      "1.02285714286\n"
     ]
    }
   ],
   "source": [
    "#survival vs family factor plot\n",
    "#question 8\n",
    "\n",
    "alonesur=0;\n",
    "alonenotsur=0;\n",
    "famnotsur=0;\n",
    "famsur=0;\n",
    "\n",
    "for i in range(0,891):\n",
    "    if Array[i][6] + Array[i][7] == 0 and Array[i][1]==1:\n",
    "        alonesur+=1\n",
    "    if Array[i][6] + Array[i][7] == 0 and Array[i][1]==0:\n",
    "        alonenotsur+=1\n",
    "    if Array[i][6] + Array[i][7] != 0 and Array[i][1]==1:\n",
    "        famsur+=1\n",
    "    if Array[i][6] + Array[i][7] != 0 and Array[i][1]==0:\n",
    "        famnotsur+=1\n",
    "        \n",
    "print alonesur,alonenotsur,famnotsur,famsur \n",
    "\n",
    "print float(famsur)/famnotsur\n",
    "\n"
   ]
  },
  {
   "cell_type": "code",
   "execution_count": null,
   "metadata": {
    "collapsed": true
   },
   "outputs": [],
   "source": [
    "mynewlist = [0 for s in mylist if s.isdigit()]"
   ]
  }
 ],
 "metadata": {
  "anaconda-cloud": {},
  "kernelspec": {
   "display_name": "Python [conda root]",
   "language": "python",
   "name": "conda-root-py"
  },
  "language_info": {
   "codemirror_mode": {
    "name": "ipython",
    "version": 2
   },
   "file_extension": ".py",
   "mimetype": "text/x-python",
   "name": "python",
   "nbconvert_exporter": "python",
   "pygments_lexer": "ipython2",
   "version": "2.7.12"
  }
 },
 "nbformat": 4,
 "nbformat_minor": 0
}
